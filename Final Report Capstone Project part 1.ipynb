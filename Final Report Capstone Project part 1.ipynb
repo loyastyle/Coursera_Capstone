{
    "cells": [
        {
            "cell_type": "markdown",
            "metadata": {
                "collapsed": true,
                "slideshow": {
                    "slide_type": "-"
                }
            },
            "source": "# <p style=\"text-align:center;\"> Capstone Project \u2013 Classifications of cities in United States based on income and land size</p>"
        },
        {
            "cell_type": "markdown",
            "metadata": {
                "slideshow": {
                    "slide_type": "-"
                }
            },
            "source": "## 1. Introduction:\n\nThe purpose of this project is to help people to identify the regions of the country that has better income as well as space to live and grow.\n\nWhen is coming to the decision of where to live and settledown is always important for the people that are intended to have kids or a nice and big house, to know the cities that can provide a considerable income as well as the important space to fulfill their needs. \n\nThis project will provide some highlights to the people interested in to this information and will provide additional information about those cities like amount of venues and most common types of restaurants.\n\n## 2. Data Section\n\n\nGolden Oak Research Group LLC, \u201cU.S. Income Database Kaggle\u201d. Publication: 5, August 2017. Accessed, 29, June 2021.\n\nWill use Income database taken from the Golden oak project which has the information about the cities with the below columns:\n\nHousehold & Geographic Statistics:\n<ul>\n    <li>Mean Household Income (double)</li>\n    <li>Median Household Income (double)</li>\n    <li>Standard Deviation of Household Income (double)</li>\n    <li>Number of Households (double)</li>\n    <li>Square area of land at location (double)</li>\n    <li>Square area of water at location (double)</li>\n</ul>\nGeographic Location:\n<ul>\n<li>Longitude (double)</li>\n<li>Latitude (double)</li>\n<li>State Name (character)</li>\n<li>State abbreviated (character)</li>\n<li>State_Code (character)</li>\n<li>County Name (character)</li>\n<li>City Name (character)</li>\n<li>Name of city, town, village or CPD (character)</li>\n<li>Primary, Defines if the location is a track and block group.</li>\n<li>Zip Code (character)</li>\n<li>Area Code (character)</li>\n</ul>\n\n#### Foursquare API Data:\n \nIn order to gain more information about the cities that are identified as more relevant based on initial analysis, we will use \"Foursquare\" locational information. Foursquare is a location data provider with information about all manner of venues and events within an area of interest. Such information includes venue names, locations, menus and even photos. As such, the foursquare location platform will be used as the sole data source since all the stated required information can be obtained through the API. \n\nThe data retrieved from Foursquare contained information of venues within a specified distance of the longitude and latitude of the postcodes. The information obtained per venue as follows:\n\n<ol>\n    <li>Venue</li>\n    <li>Name of the venue e.g. the name of a store or restaurant</li>\n    <li>Venue Latitude</li>\n    <li>Venue Longitude</li>\n    <li>Venue Category</li>\n</ol>\n"
        },
        {
            "cell_type": "code",
            "execution_count": null,
            "metadata": {},
            "outputs": [],
            "source": ""
        }
    ],
    "metadata": {
        "kernelspec": {
            "display_name": "Python 3.7",
            "language": "python",
            "name": "python3"
        },
        "language_info": {
            "codemirror_mode": {
                "name": "ipython",
                "version": 3
            },
            "file_extension": ".py",
            "mimetype": "text/x-python",
            "name": "python",
            "nbconvert_exporter": "python",
            "pygments_lexer": "ipython3",
            "version": "3.7.10"
        }
    },
    "nbformat": 4,
    "nbformat_minor": 1
}